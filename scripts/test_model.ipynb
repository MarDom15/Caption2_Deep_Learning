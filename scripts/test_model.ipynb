{
 "cells": [
  {
   "cell_type": "code",
   "execution_count": 3,
   "metadata": {},
   "outputs": [
    {
     "name": "stderr",
     "output_type": "stream",
     "text": [
      "WARNING:absl:Compiled the loaded model, but the compiled metrics have yet to be built. `model.compile_metrics` will be empty until you train or evaluate the model.\n"
     ]
    },
    {
     "name": "stdout",
     "output_type": "stream",
     "text": [
      "\u001b[1m1/1\u001b[0m \u001b[32m━━━━━━━━━━━━━━━━━━━━\u001b[0m\u001b[37m\u001b[0m \u001b[1m2s\u001b[0m 2s/step\n",
      "Image: person1946_bacteria_4874.jpeg | Prediction: Pneumonia | Confidence: 0.92\n",
      "\u001b[1m1/1\u001b[0m \u001b[32m━━━━━━━━━━━━━━━━━━━━\u001b[0m\u001b[37m\u001b[0m \u001b[1m0s\u001b[0m 71ms/step\n",
      "Image: person1946_bacteria_4875.jpeg | Prediction: Pneumonia | Confidence: 0.95\n",
      "\u001b[1m1/1\u001b[0m \u001b[32m━━━━━━━━━━━━━━━━━━━━\u001b[0m\u001b[37m\u001b[0m \u001b[1m0s\u001b[0m 102ms/step\n",
      "Image: person1947_bacteria_4876.jpeg | Prediction: Pneumonia | Confidence: 0.94\n",
      "\u001b[1m1/1\u001b[0m \u001b[32m━━━━━━━━━━━━━━━━━━━━\u001b[0m\u001b[37m\u001b[0m \u001b[1m0s\u001b[0m 77ms/step\n",
      "Image: person1949_bacteria_4880.jpeg | Prediction: Pneumonia | Confidence: 0.84\n",
      "\u001b[1m1/1\u001b[0m \u001b[32m━━━━━━━━━━━━━━━━━━━━\u001b[0m\u001b[37m\u001b[0m \u001b[1m0s\u001b[0m 103ms/step\n",
      "Image: person1950_bacteria_4881.jpeg | Prediction: Pneumonia | Confidence: 0.91\n",
      "\u001b[1m1/1\u001b[0m \u001b[32m━━━━━━━━━━━━━━━━━━━━\u001b[0m\u001b[37m\u001b[0m \u001b[1m0s\u001b[0m 89ms/step\n",
      "Image: person1951_bacteria_4882.jpeg | Prediction: Pneumonia | Confidence: 0.98\n",
      "\u001b[1m1/1\u001b[0m \u001b[32m━━━━━━━━━━━━━━━━━━━━\u001b[0m\u001b[37m\u001b[0m \u001b[1m0s\u001b[0m 77ms/step\n",
      "Image: person1952_bacteria_4883.jpeg | Prediction: Pneumonia | Confidence: 0.95\n",
      "\u001b[1m1/1\u001b[0m \u001b[32m━━━━━━━━━━━━━━━━━━━━\u001b[0m\u001b[37m\u001b[0m \u001b[1m0s\u001b[0m 91ms/step\n",
      "Image: person1954_bacteria_4886.jpeg | Prediction: Pneumonia | Confidence: 0.70\n"
     ]
    }
   ],
   "source": [
    "import os\n",
    "import numpy as np\n",
    "from tensorflow.keras.models import load_model\n",
    "from tensorflow.keras.preprocessing import image\n",
    "\n",
    "# Charger le modèle\n",
    "model_path = r\"C:\\Users\\marti\\Desktop\\dataof\\Caption2_Deep_Learning\\models\\pneumonia_model.h5\"\n",
    "model = load_model(model_path)\n",
    "\n",
    "# Chemin vers le dossier de test\n",
    "test_dir = r\"C:\\Users\\marti\\Desktop\\dataof\\Caption2_Deep_Learning\\Data_224\\val\\PNEUMONIA\"\n",
    "\n",
    "# Fonction pour prétraiter une image\n",
    "def preprocess_image(img_path):\n",
    "    \"\"\"\n",
    "    Charge et prétraite une image pour la prédiction.\n",
    "    \n",
    "    Args:\n",
    "        img_path (str): Chemin de l'image.\n",
    "    \n",
    "    Returns:\n",
    "        np.ndarray: Image prétraitée avec dimensions adaptées au modèle.\n",
    "    \"\"\"\n",
    "    img = image.load_img(img_path, target_size=(224, 224))\n",
    "    img_array = image.img_to_array(img) / 255.0\n",
    "    return np.expand_dims(img_array, axis=0)\n",
    "\n",
    "# Prédire pour toutes les images dans le dossier\n",
    "def predict_images_in_folder(folder_path, model):\n",
    "    \"\"\"\n",
    "    Prédit toutes les images d'un dossier et affiche les résultats.\n",
    "    \n",
    "    Args:\n",
    "        folder_path (str): Chemin du dossier contenant les images.\n",
    "        model (keras.Model): Modèle chargé pour la prédiction.\n",
    "    \"\"\"\n",
    "    for img_name in os.listdir(folder_path):\n",
    "        img_path = os.path.join(folder_path, img_name)\n",
    "        if not img_name.lower().endswith(('.png', '.jpg', '.jpeg')):  # Vérifier si c'est une image\n",
    "            continue\n",
    "\n",
    "        # Prétraitement et prédiction\n",
    "        input_image = preprocess_image(img_path)\n",
    "        prediction = model.predict(input_image).flatten()[0]\n",
    "\n",
    "        # Résultat et confiance\n",
    "        result = \"Pneumonia\" if prediction > 0.5 else \"Normal\"\n",
    "        confidence = prediction if prediction > 0.5 else 1 - prediction\n",
    "\n",
    "        print(f\"Image: {img_name} | Prediction: {result} | Confidence: {confidence:.2f}\")\n",
    "\n",
    "# Exécuter la prédiction sur le dossier\n",
    "predict_images_in_folder(test_dir, model)\n"
   ]
  }
 ],
 "metadata": {
  "kernelspec": {
   "display_name": "base",
   "language": "python",
   "name": "python3"
  },
  "language_info": {
   "codemirror_mode": {
    "name": "ipython",
    "version": 3
   },
   "file_extension": ".py",
   "mimetype": "text/x-python",
   "name": "python",
   "nbconvert_exporter": "python",
   "pygments_lexer": "ipython3",
   "version": "3.12.4"
  }
 },
 "nbformat": 4,
 "nbformat_minor": 2
}
